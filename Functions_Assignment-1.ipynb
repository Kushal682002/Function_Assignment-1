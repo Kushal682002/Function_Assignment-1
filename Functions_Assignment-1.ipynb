{
 "cells": [
  {
   "cell_type": "markdown",
   "id": "958706c5",
   "metadata": {},
   "source": [
    "# Ans 1"
   ]
  },
  {
   "cell_type": "markdown",
   "id": "d00fce37",
   "metadata": {},
   "source": [
    "' def ' (define) keyword is used to create a function in python."
   ]
  },
  {
   "cell_type": "code",
   "execution_count": 7,
   "id": "a06a6929",
   "metadata": {},
   "outputs": [],
   "source": [
    "\n",
    "def odd_numbers():\n",
    "    l = []\n",
    "    for i in range(26):\n",
    "      if i%2!=0:\n",
    "        l.append(i);\n",
    "    return l;    "
   ]
  },
  {
   "cell_type": "code",
   "execution_count": 8,
   "id": "6e5e72aa",
   "metadata": {},
   "outputs": [
    {
     "name": "stdout",
     "output_type": "stream",
     "text": [
      "[1, 3, 5, 7, 9, 11, 13, 15, 17, 19, 21, 23, 25]\n"
     ]
    }
   ],
   "source": [
    "print(odd_numbers())"
   ]
  },
  {
   "cell_type": "markdown",
   "id": "58521aed",
   "metadata": {},
   "source": [
    "# Ans 2"
   ]
  },
  {
   "cell_type": "markdown",
   "id": "edabc629",
   "metadata": {},
   "source": [
    "' *args ' allows a function to take variable number of non-keyword arguments.   \n",
    "' **kwargs ' allows a function to take variable number of keyword arguments."
   ]
  },
  {
   "cell_type": "code",
   "execution_count": 9,
   "id": "7192db7e",
   "metadata": {},
   "outputs": [],
   "source": [
    "def sum(*args):\n",
    "    total = 0;\n",
    "    for num in args:\n",
    "        total += num;\n",
    "    return total;"
   ]
  },
  {
   "cell_type": "code",
   "execution_count": 10,
   "id": "8f6d4595",
   "metadata": {},
   "outputs": [
    {
     "name": "stdout",
     "output_type": "stream",
     "text": [
      "10\n"
     ]
    }
   ],
   "source": [
    "print(sum(1,2,3,4));"
   ]
  },
  {
   "cell_type": "code",
   "execution_count": 11,
   "id": "3b837bf7",
   "metadata": {},
   "outputs": [],
   "source": [
    "def print_details(**kwargs):\n",
    "    for key,value in kwargs.items():\n",
    "        print(f\"{key} : {value}\")"
   ]
  },
  {
   "cell_type": "code",
   "execution_count": 12,
   "id": "73aac9c5",
   "metadata": {},
   "outputs": [
    {
     "name": "stdout",
     "output_type": "stream",
     "text": [
      "name : Kushal\n",
      "age : 21\n"
     ]
    }
   ],
   "source": [
    "print_details(name=\"Kushal\",age = 21)"
   ]
  },
  {
   "cell_type": "markdown",
   "id": "15be5e00",
   "metadata": {},
   "source": [
    "# Ans 3"
   ]
  },
  {
   "cell_type": "markdown",
   "id": "26a3699e",
   "metadata": {},
   "source": [
    "Iterator --> An iterator in Python is an object that is used to iterate over iterable objects like lists,tuples,dicts and sets.\n",
    "To initialize an iterator object in Python, you can use the 'iter()' function, which takes an iterable as an arguement and returns an iterable object.\n",
    "\n",
    "The method used for iteration is 'next()'. "
   ]
  },
  {
   "cell_type": "code",
   "execution_count": 14,
   "id": "a1779937",
   "metadata": {},
   "outputs": [
    {
     "name": "stdout",
     "output_type": "stream",
     "text": [
      "2\n",
      "4\n",
      "6\n",
      "8\n",
      "10\n"
     ]
    }
   ],
   "source": [
    "list = [2,4,6,8,10,12,14,16,18,20]\n",
    "my_iterator = iter(list);\n",
    "for _ in range(5):\n",
    "    element = next(my_iterator);\n",
    "    print(element)"
   ]
  },
  {
   "cell_type": "markdown",
   "id": "900ae9e8",
   "metadata": {},
   "source": [
    "# Ans 4"
   ]
  },
  {
   "cell_type": "markdown",
   "id": "cbab1371",
   "metadata": {},
   "source": [
    "Generator function --> It is a special type of function that generates a sequence of values using the 'yield' keyword instead of the 'return' keyword.It allows you to create iterators in a simple and efficient way.\n",
    "\n",
    "The use of 'yield' keyword allows generator functions to generate values efficiently,without having to store the entire sequence in memory. This makes generators useful when dealing with large or infinite sequences."
   ]
  },
  {
   "cell_type": "code",
   "execution_count": 19,
   "id": "aaea2ef8",
   "metadata": {},
   "outputs": [],
   "source": [
    "def fib(n):\n",
    "    a,b = 0,1\n",
    "    while True:\n",
    "        yield a\n",
    "        a,b = b,a+b"
   ]
  },
  {
   "cell_type": "markdown",
   "id": "2fcc91fa",
   "metadata": {},
   "source": [
    "# Ans 5"
   ]
  },
  {
   "cell_type": "code",
   "execution_count": 20,
   "id": "4882ead2",
   "metadata": {},
   "outputs": [],
   "source": [
    "def is_prime(number):\n",
    "    if number<2:\n",
    "        return False;\n",
    "    for i in range(2,int(number**0.5) + 1):\n",
    "        if number % i == 0:\n",
    "            return False;\n",
    "    return True;"
   ]
  },
  {
   "cell_type": "code",
   "execution_count": 21,
   "id": "552eccf3",
   "metadata": {},
   "outputs": [],
   "source": [
    "def prime_generator():\n",
    "    for number in range(2,1000):\n",
    "        if is_prime(number):\n",
    "            yield number;"
   ]
  },
  {
   "cell_type": "code",
   "execution_count": 22,
   "id": "8244c538",
   "metadata": {},
   "outputs": [
    {
     "name": "stdout",
     "output_type": "stream",
     "text": [
      "<generator object prime_generator at 0x0000020BC6D93B90>\n"
     ]
    }
   ],
   "source": [
    "print(prime_generator())"
   ]
  },
  {
   "cell_type": "code",
   "execution_count": 23,
   "id": "f4e5a2ad",
   "metadata": {},
   "outputs": [
    {
     "name": "stdout",
     "output_type": "stream",
     "text": [
      "2\n",
      "3\n",
      "5\n",
      "7\n",
      "11\n",
      "13\n",
      "17\n",
      "19\n",
      "23\n",
      "29\n",
      "31\n",
      "37\n",
      "41\n",
      "43\n",
      "47\n",
      "53\n",
      "59\n",
      "61\n",
      "67\n",
      "71\n"
     ]
    }
   ],
   "source": [
    "prime_numbers = prime_generator();\n",
    "\n",
    "for _ in range(20):\n",
    "    prime = next(prime_numbers);\n",
    "    print(prime)"
   ]
  },
  {
   "cell_type": "markdown",
   "id": "54348c18",
   "metadata": {},
   "source": [
    "# Ans 6"
   ]
  },
  {
   "cell_type": "code",
   "execution_count": 35,
   "id": "6682049f",
   "metadata": {},
   "outputs": [],
   "source": [
    "def fibonacci(n):\n",
    "    a,b = 0,1;\n",
    "    while True:\n",
    "        yield a;\n",
    "        a,b = b,a+b\n",
    "    \n",
    "fib = fibonacci(10);"
   ]
  },
  {
   "cell_type": "code",
   "execution_count": 36,
   "id": "ffe2c60a",
   "metadata": {},
   "outputs": [
    {
     "name": "stdout",
     "output_type": "stream",
     "text": [
      "0\n",
      "1\n",
      "1\n",
      "2\n",
      "3\n",
      "5\n",
      "8\n",
      "13\n",
      "21\n",
      "34\n"
     ]
    }
   ],
   "source": [
    "for i in range(10):\n",
    "    print(next(fib))"
   ]
  },
  {
   "cell_type": "markdown",
   "id": "9cf7dae1",
   "metadata": {},
   "source": [
    "# Ans 7"
   ]
  },
  {
   "cell_type": "code",
   "execution_count": 37,
   "id": "6909b022",
   "metadata": {},
   "outputs": [],
   "source": [
    "name = \"pwskills\";"
   ]
  },
  {
   "cell_type": "code",
   "execution_count": 40,
   "id": "a5ce2652",
   "metadata": {},
   "outputs": [],
   "source": [
    "l = [];\n",
    "for i in name:\n",
    "    l.append(i);"
   ]
  },
  {
   "cell_type": "code",
   "execution_count": 41,
   "id": "956f0c60",
   "metadata": {},
   "outputs": [
    {
     "name": "stdout",
     "output_type": "stream",
     "text": [
      "['p', 'w', 's', 'k', 'i', 'l', 'l', 's']\n"
     ]
    }
   ],
   "source": [
    "print(l)"
   ]
  },
  {
   "cell_type": "markdown",
   "id": "f8081d8c",
   "metadata": {},
   "source": [
    "# Ans 8"
   ]
  },
  {
   "cell_type": "code",
   "execution_count": 47,
   "id": "9fd718a1",
   "metadata": {},
   "outputs": [
    {
     "name": "stdout",
     "output_type": "stream",
     "text": [
      "1234  is not an palindrome number.\n"
     ]
    }
   ],
   "source": [
    "def reverse(n):\n",
    "    rev = 0;\n",
    "    number = n;\n",
    "    while number>0:\n",
    "        digit = number%10;\n",
    "        rev = rev * 10 + digit;\n",
    "        number//=10;\n",
    "    if rev == n:\n",
    "        print(n,\" is an palindrome number\");\n",
    "    else:\n",
    "        print(n,\" is not an palindrome number.\");\n",
    "            \n",
    "reverse(1234)\n",
    "\n",
    "    "
   ]
  },
  {
   "cell_type": "code",
   "execution_count": 48,
   "id": "bc4f7388",
   "metadata": {},
   "outputs": [
    {
     "name": "stdout",
     "output_type": "stream",
     "text": [
      "121  is an palindrome number\n"
     ]
    }
   ],
   "source": [
    "reverse(121)"
   ]
  },
  {
   "cell_type": "markdown",
   "id": "6124ec64",
   "metadata": {},
   "source": [
    "# Ans 9"
   ]
  },
  {
   "cell_type": "code",
   "execution_count": 49,
   "id": "f7891766",
   "metadata": {},
   "outputs": [
    {
     "name": "stdout",
     "output_type": "stream",
     "text": [
      "[1, 3, 5, 7, 9, 11, 13, 15, 17, 19, 21, 23, 25, 27, 29, 31, 33, 35, 37, 39, 41, 43, 45, 47, 49, 51, 53, 55, 57, 59, 61, 63, 65, 67, 69, 71, 73, 75, 77, 79, 81, 83, 85, 87, 89, 91, 93, 95, 97, 99]\n"
     ]
    }
   ],
   "source": [
    "odd_numbers = [num for num in range(1,101) if num % 2 != 0]\n",
    "print(odd_numbers)"
   ]
  },
  {
   "cell_type": "code",
   "execution_count": null,
   "id": "338d6b19",
   "metadata": {},
   "outputs": [],
   "source": []
  }
 ],
 "metadata": {
  "kernelspec": {
   "display_name": "Python 3 (ipykernel)",
   "language": "python",
   "name": "python3"
  },
  "language_info": {
   "codemirror_mode": {
    "name": "ipython",
    "version": 3
   },
   "file_extension": ".py",
   "mimetype": "text/x-python",
   "name": "python",
   "nbconvert_exporter": "python",
   "pygments_lexer": "ipython3",
   "version": "3.11.2"
  }
 },
 "nbformat": 4,
 "nbformat_minor": 5
}
